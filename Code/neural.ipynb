{
  "cells": [
    {
      "cell_type": "code",
      "execution_count": null,
      "metadata": {
        "vscode": {
          "languageId": "plaintext"
        },
        "id": "mifwve23BkrV"
      },
      "outputs": [],
      "source": [
        "print(f\"\\n Hello Jupiter Colab \\n\")"
      ]
    },
    {
      "cell_type": "code",
      "source": [
        "%matplotlib inline\n",
        "\n",
        "import os\n",
        "\n",
        "#if using Theano with GPU\n",
        "#os.environ[\"KERAS_BACKEND\"] = \"tensorflow\"\n",
        "\n",
        "import random\n",
        "import numpy as np\n",
        "import keras\n",
        "\n",
        "import matplotlib.pyplot as plt\n",
        "from matplotlib.pyplot import imshow\n",
        "\n",
        "from keras.preprocessing import image\n",
        "from keras.applications.imagenet_utils import preprocess_input\n",
        "from keras.models import Sequential\n",
        "from keras.layers import Dense, Dropout, Flatten, Activation\n",
        "from keras.layers import Conv2D, MaxPooling2D\n",
        "from keras.models import Model"
      ],
      "metadata": {
        "id": "pjGsMPx1BmXD"
      },
      "execution_count": 7,
      "outputs": []
    },
    {
      "cell_type": "code",
      "source": [
        "file_paths = [\n",
        "    \"Data/Cat2600.zip\",\n",
        "    \"Data/Dog2603.zip\",\n",
        "    \"Data/CatAndDog.zip\",\n",
        "    # Add more file paths as needed\n",
        "]\n",
        "\n",
        "base_url = \"https://github.com/Alvaro-MSJR/Training-Neural-Network-with-Transfer-Learning/tree/main/Data\"\n",
        "\n",
        "for file_path in file_paths:\n",
        "    file_name = os.path.basename(file_path)  # Extract the file name\n",
        "    url = base_url + file_path\n",
        "\n",
        "    !echo \"Downloading {file_name}\"\n",
        "    !curl -L -o sample_data/data/{file_name} -C - --progress-bar {url}\n",
        "\n"
      ],
      "metadata": {
        "id": "FPzB2VnQGusN",
        "outputId": "4013c159-b567-40d9-c8a2-1cd287a1832c",
        "colab": {
          "base_uri": "https://localhost:8080/"
        }
      },
      "execution_count": 28,
      "outputs": [
        {
          "output_type": "stream",
          "name": "stdout",
          "text": [
            "Downloading Cat2600.zip\n",
            "############################################################################################# 100.0%curl: (33) HTTP server doesn't seem to support byte ranges. Cannot resume.\n",
            "\n",
            "Downloading Dog2603.zip\n",
            "############################################################################################# 100.0%curl: (33) HTTP server doesn't seem to support byte ranges. Cannot resume.\n",
            "\n",
            "Downloading CatAndDog.zip\n",
            "############################################################################################# 100.0%curl: (33) HTTP server doesn't seem to support byte ranges. Cannot resume.\n",
            "\n"
          ]
        }
      ]
    },
    {
      "cell_type": "code",
      "source": [
        "\n",
        "# Juntar as partes do arquivo\n",
        "!cat kagglecatsanddogs_5340.zip.001 kagglecatsanddogs_5340.zip.002 kagglecatsanddogs_5340.zip.003 > kagglecatsanddogs_5340.zip\n",
        "\n",
        "# Extrair o arquivo zip\n",
        "!unzip kagglecatsanddogs_5340.zip\n"
      ],
      "metadata": {
        "id": "A6qoq0MuG4Vy",
        "outputId": "c4f4c1b9-9281-4c98-9a46-644eabe168d7",
        "colab": {
          "base_uri": "https://localhost:8080/"
        }
      },
      "execution_count": null,
      "outputs": [
        {
          "output_type": "stream",
          "name": "stdout",
          "text": [
            "Archive:  kagglecatsanddogs_5340.zip\n",
            "  End-of-central-directory signature not found.  Either this file is not\n",
            "  a zipfile, or it constitutes one disk of a multi-part archive.  In the\n",
            "  latter case the central directory and zipfile comment will be found on\n",
            "  the last disk(s) of this archive.\n",
            "unzip:  cannot find zipfile directory in one of kagglecatsanddogs_5340.zip or\n",
            "        kagglecatsanddogs_5340.zip.zip, and cannot find kagglecatsanddogs_5340.zip.ZIP, period.\n"
          ]
        }
      ]
    },
    {
      "cell_type": "code",
      "source": [
        "\n",
        "# Extract the files if they are compressed (e.g., .zip, .tar.gz)\n",
        "!unzip sample_data/data/Cat2600.zip\n",
        "\n",
        "!tar -xf sample_data/data/Dog2603.zip\n",
        "\n",
        "!tar -xzf sample_data/data/CatAndDog.zip\n",
        "\n",
        "# Add extraction commands for other files as needed"
      ],
      "metadata": {
        "id": "Id75RxjDFVTT",
        "outputId": "90ecf12c-ee9e-48dd-8de8-419bfa49838a",
        "colab": {
          "base_uri": "https://localhost:8080/"
        }
      },
      "execution_count": 27,
      "outputs": [
        {
          "output_type": "stream",
          "name": "stdout",
          "text": [
            "Archive:  sample_data/Cat2600.zip\n",
            "  End-of-central-directory signature not found.  Either this file is not\n",
            "  a zipfile, or it constitutes one disk of a multi-part archive.  In the\n",
            "  latter case the central directory and zipfile comment will be found on\n",
            "  the last disk(s) of this archive.\n",
            "unzip:  cannot find zipfile directory in one of sample_data/Cat2600.zip or\n",
            "        sample_data/Cat2600.zip.zip, and cannot find sample_data/Cat2600.zip.ZIP, period.\n",
            "tar: This does not look like a tar archive\n",
            "tar: Skipping to next header\n",
            "tar: Exiting with failure status due to previous errors\n",
            "\n",
            "gzip: stdin: not in gzip format\n",
            "tar: Child returned status 1\n",
            "tar: Error is not recoverable: exiting now\n"
          ]
        }
      ]
    },
    {
      "cell_type": "code",
      "source": [
        "!ls ./sample_data/Data"
      ],
      "metadata": {
        "id": "c23SrMgkX2rm",
        "outputId": "f5b4b7e6-20f6-4779-d8e9-de917c9738a5",
        "colab": {
          "base_uri": "https://localhost:8080/"
        }
      },
      "execution_count": 29,
      "outputs": [
        {
          "output_type": "stream",
          "name": "stdout",
          "text": [
            "ls: cannot access './sample_data/Data': No such file or directory\n"
          ]
        }
      ]
    },
    {
      "cell_type": "code",
      "source": [
        "\n",
        "# Remove the downloaded files if desired\n",
        "!rm sample_data/Data/Cat2600.zip\n",
        "!rm sample_data/Data/Dog2603.zip\n",
        "!rm sample_data/Data/CatAndDog.zip\n",
        "\n",
        "!ls"
      ],
      "metadata": {
        "id": "kq-qChr9FcfP"
      },
      "execution_count": null,
      "outputs": []
    },
    {
      "cell_type": "code",
      "source": [],
      "metadata": {
        "id": "1KZ60D2bFem3"
      },
      "execution_count": null,
      "outputs": []
    },
    {
      "cell_type": "code",
      "source": [
        "!echo \"Downloading kagglecatsanddogs_5340.zip.001 for image notebooks\"\n",
        "!curl -L -o kagglecatsanddogs_5340.zip.001 --progress-bar https://github.com/Alvaro-MSJR/Training-Neural-Network-with-Transfer-Learning/blob/main/Data/kagglecatsanddogs_5340.zip.001\n",
        "!tar -xzf kagglecatsanddogs_5340.zip.001\n",
        "!rm kagglecatsanddogs_5340.zip.001\n",
        "!ls\n"
      ],
      "metadata": {
        "id": "4dHyiba8Bo0v",
        "outputId": "9f1bae9f-0594-4719-d54d-00c7242dac4d",
        "colab": {
          "base_uri": "https://localhost:8080/"
        }
      },
      "execution_count": null,
      "outputs": [
        {
          "output_type": "stream",
          "name": "stdout",
          "text": [
            "Downloading kagglecatsanddogs_5340.zip.001 for image notebooks\n",
            "##O=#  #                                                                                           \n",
            "\n",
            "gzip: stdin: not in gzip format\n",
            "tar: Child returned status 1\n",
            "tar: Error is not recoverable: exiting now\n",
            "sample_data\n"
          ]
        }
      ]
    },
    {
      "cell_type": "code",
      "source": [
        "root = '101_ObjectCategories'\n",
        "exclude = ['BACKGROUND_Google', 'Motorbikes', 'airplanes', 'Faces_easy', 'Faces']\n",
        "train_split, val_split = 0.7, 0.15\n",
        "\n",
        "categories = [x[0] for x in os.walk(root) if x[0]][1:]\n",
        "categories = [c for c in categories if c not in [os.path.join(root, e) for e in exclude]]\n",
        "\n",
        "print(categories)"
      ],
      "metadata": {
        "id": "aPu30ZeUBo91"
      },
      "execution_count": null,
      "outputs": []
    },
    {
      "cell_type": "markdown",
      "source": [
        "This function is useful for pre-processing the data into an image and input vector."
      ],
      "metadata": {
        "id": "ShJUsPB-DBkv"
      }
    },
    {
      "cell_type": "code",
      "source": [
        "# helper function to load image and return it and input vector\n",
        "def get_image(path):\n",
        "    img = image.load_img(path, target_size=(224, 224))\n",
        "    x = image.img_to_array(img)\n",
        "    x = np.expand_dims(x, axis=0)\n",
        "    x = preprocess_input(x)\n",
        "    return img, x"
      ],
      "metadata": {
        "id": "bbepbeaMCFOp"
      },
      "execution_count": null,
      "outputs": []
    },
    {
      "cell_type": "markdown",
      "source": [
        "Load all the images from root folder"
      ],
      "metadata": {
        "id": "FNPMGa1ADI8c"
      }
    },
    {
      "cell_type": "code",
      "source": [
        "data = []\n",
        "for c, category in enumerate(categories):\n",
        "    images = [os.path.join(dp, f) for dp, dn, filenames\n",
        "              in os.walk(category) for f in filenames\n",
        "              if os.path.splitext(f)[1].lower() in ['.jpg','.png','.jpeg']]\n",
        "    for img_path in images:\n",
        "        img, x = get_image(img_path)\n",
        "        data.append({'x':np.array(x[0]), 'y':c})\n",
        "\n",
        "# count the number of classes\n",
        "num_classes = len(categories)"
      ],
      "metadata": {
        "id": "Z6PEzm-cDIYc"
      },
      "execution_count": null,
      "outputs": []
    },
    {
      "cell_type": "markdown",
      "source": [
        "Randomize the data order."
      ],
      "metadata": {
        "id": "MQkP5r2tDa8B"
      }
    },
    {
      "cell_type": "code",
      "source": [
        "random.shuffle(data)"
      ],
      "metadata": {
        "id": "kSCY5qqVDIx8"
      },
      "execution_count": null,
      "outputs": []
    },
    {
      "cell_type": "markdown",
      "source": [
        "create training / validation / test split (70%, 15%, 15%)"
      ],
      "metadata": {
        "id": "Pqtvm1HrDJES"
      }
    }
  ],
  "metadata": {
    "language_info": {
      "name": "python"
    },
    "colab": {
      "provenance": []
    },
    "kernelspec": {
      "name": "python3",
      "display_name": "Python 3"
    }
  },
  "nbformat": 4,
  "nbformat_minor": 0
}