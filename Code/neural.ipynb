{
  "cells": [
    {
      "cell_type": "code",
      "execution_count": null,
      "metadata": {
        "vscode": {
          "languageId": "plaintext"
        },
        "id": "mifwve23BkrV"
      },
      "outputs": [],
      "source": [
        "print(f\"\\n Hello Jupiter Colab \\n\")"
      ]
    },
    {
      "cell_type": "code",
      "source": [
        "%matplotlib inline\n",
        "\n",
        "import os\n",
        "\n",
        "#if using Theano with GPU\n",
        "#os.environ[\"KERAS_BACKEND\"] = \"tensorflow\"\n",
        "\n",
        "import random\n",
        "import numpy as np\n",
        "import keras\n",
        "\n",
        "import matplotlib.pyplot as plt\n",
        "from matplotlib.pyplot import imshow\n",
        "\n",
        "from keras.preprocessing import image\n",
        "from keras.applications.imagenet_utils import preprocess_input\n",
        "from keras.models import Sequential\n",
        "from keras.layers import Dense, Dropout, Flatten, Activation\n",
        "from keras.layers import Conv2D, MaxPooling2D\n",
        "from keras.models import Model"
      ],
      "metadata": {
        "id": "pjGsMPx1BmXD"
      },
      "execution_count": 2,
      "outputs": []
    },
    {
      "cell_type": "code",
      "source": [
        "file_paths = [\n",
        "    \"Data/kagglecatsanddogs_5340.zip.001\",\n",
        "    \"Data/kagglecatsanddogs_5340.zip.002\",\n",
        "    \"Data/kagglecatsanddogs_5340.zip.003\",\n",
        "    \"Data/kagglecatsanddogs_5340.zip.004\",\n",
        "    \"Data/kagglecatsanddogs_5340.zip.005\",\n",
        "    \"Data/kagglecatsanddogs_5340.zip.006\",\n",
        "    \"Data/kagglecatsanddogs_5340.zip.007\",\n",
        "    \"Data/kagglecatsanddogs_5340.zip.008\",\n",
        "    # Add more file paths as needed\n",
        "]\n",
        "\n",
        "base_url = \"https://github.com/Alvaro-MSJR/Training-Neural-Network-with-Transfer-Learning/tree/main/Data\"\n",
        "\n",
        "for file_path in file_paths:\n",
        "    file_name = os.path.basename(file_path)  # Extract the file name\n",
        "    url = base_url + file_path\n",
        "\n",
        "    !echo \"Downloading {file_name}\"\n",
        "    !curl -L -o {file_name} --progress-bar {url}\n",
        "\n"
      ],
      "metadata": {
        "id": "FPzB2VnQGusN",
        "outputId": "b03b4cfe-7937-40ad-c2c1-2a11898470c2",
        "colab": {
          "base_uri": "https://localhost:8080/"
        }
      },
      "execution_count": 5,
      "outputs": [
        {
          "output_type": "stream",
          "name": "stdout",
          "text": [
            "Downloading kagglecatsanddogs_5340.zip.001\n",
            "#=#=-#   #                                                                                         \n",
            "Downloading kagglecatsanddogs_5340.zip.002\n",
            "##O=#  #                                                                                           \n",
            "Downloading kagglecatsanddogs_5340.zip.003\n",
            "#=#=-#   #                                                                                         \n",
            "Downloading kagglecatsanddogs_5340.zip.004\n",
            "#=#=-#   #                                                                                         \n",
            "Downloading kagglecatsanddogs_5340.zip.005\n",
            "\n",
            "Downloading kagglecatsanddogs_5340.zip.006\n",
            "#=#=-#   #                                                                                         \n",
            "Downloading kagglecatsanddogs_5340.zip.007\n",
            "\n",
            "Downloading kagglecatsanddogs_5340.zip.008\n",
            "#=#=-#   #                                                                                         \n"
          ]
        }
      ]
    },
    {
      "cell_type": "code",
      "source": [
        "\n",
        "# Juntar as partes do arquivo\n",
        "!cat kagglecatsanddogs_5340.zip.001 kagglecatsanddogs_5340.zip.002 kagglecatsanddogs_5340.zip.003 > kagglecatsanddogs_5340.zip\n",
        "\n",
        "# Extrair o arquivo zip\n",
        "!unzip kagglecatsanddogs_5340.zip\n"
      ],
      "metadata": {
        "id": "A6qoq0MuG4Vy",
        "outputId": "c4f4c1b9-9281-4c98-9a46-644eabe168d7",
        "colab": {
          "base_uri": "https://localhost:8080/"
        }
      },
      "execution_count": 6,
      "outputs": [
        {
          "output_type": "stream",
          "name": "stdout",
          "text": [
            "Archive:  kagglecatsanddogs_5340.zip\n",
            "  End-of-central-directory signature not found.  Either this file is not\n",
            "  a zipfile, or it constitutes one disk of a multi-part archive.  In the\n",
            "  latter case the central directory and zipfile comment will be found on\n",
            "  the last disk(s) of this archive.\n",
            "unzip:  cannot find zipfile directory in one of kagglecatsanddogs_5340.zip or\n",
            "        kagglecatsanddogs_5340.zip.zip, and cannot find kagglecatsanddogs_5340.zip.ZIP, period.\n"
          ]
        }
      ]
    },
    {
      "cell_type": "code",
      "source": [],
      "metadata": {
        "id": "jNkOPYKlG_EI"
      },
      "execution_count": null,
      "outputs": []
    },
    {
      "cell_type": "code",
      "source": [
        "\n",
        "# Extract the files if they are compressed (e.g., .zip, .tar.gz)\n",
        "!tar -xzf kagglecatsanddogs_5340.zip.001\n",
        "!tar -xzf kagglecatsanddogs_5340.zip.002\n",
        "!tar -xzf kagglecatsanddogs_5340.zip.003\n",
        "!tar -xzf kagglecatsanddogs_5340.zip.004\n",
        "!tar -xzf kagglecatsanddogs_5340.zip.005\n",
        "!tar -xzf kagglecatsanddogs_5340.zip.006\n",
        "!tar -xzf kagglecatsanddogs_5340.zip.007\n",
        "!tar -xzf kagglecatsanddogs_5340.zip.008\n",
        "# Add extraction commands for other files as needed"
      ],
      "metadata": {
        "id": "Id75RxjDFVTT",
        "outputId": "36ffd2a6-422f-407e-8322-364645d9381d",
        "colab": {
          "base_uri": "https://localhost:8080/"
        }
      },
      "execution_count": 4,
      "outputs": [
        {
          "output_type": "stream",
          "name": "stdout",
          "text": [
            "Downloading kagglecatsanddogs_5340.zip.001\n",
            "#=#=-#   #                                                                                         \n",
            "Downloading kagglecatsanddogs_5340.zip.002\n",
            "\n",
            "Downloading kagglecatsanddogs_5340.zip.003\n",
            "##O=#  #                                                                                           \n",
            "Downloading kagglecatsanddogs_5340.zip.004\n",
            "#=#=-#   #                                                                                         \n",
            "Downloading kagglecatsanddogs_5340.zip.005\n",
            "\n",
            "Downloading kagglecatsanddogs_5340.zip.006\n",
            "\n",
            "Downloading kagglecatsanddogs_5340.zip.007\n",
            "##O=#  #                                                                                           \n",
            "Downloading kagglecatsanddogs_5340.zip.008\n",
            "##O=#  #                                                                                           \n",
            "\n",
            "gzip: stdin: not in gzip format\n",
            "tar: Child returned status 1\n",
            "tar: Error is not recoverable: exiting now\n",
            "\n",
            "gzip: stdin: not in gzip format\n",
            "tar: Child returned status 1\n",
            "tar: Error is not recoverable: exiting now\n",
            "\n",
            "gzip: stdin: not in gzip format\n",
            "tar: Child returned status 1\n",
            "tar: Error is not recoverable: exiting now\n",
            "\n",
            "gzip: stdin: not in gzip format\n",
            "tar: Child returned status 1\n",
            "tar: Error is not recoverable: exiting now\n",
            "\n",
            "gzip: stdin: not in gzip format\n",
            "tar: Child returned status 1\n",
            "tar: Error is not recoverable: exiting now\n",
            "\n",
            "gzip: stdin: not in gzip format\n",
            "tar: Child returned status 1\n",
            "tar: Error is not recoverable: exiting now\n",
            "\n",
            "gzip: stdin: not in gzip format\n",
            "tar: Child returned status 1\n",
            "tar: Error is not recoverable: exiting now\n",
            "\n",
            "gzip: stdin: not in gzip format\n",
            "tar: Child returned status 1\n",
            "tar: Error is not recoverable: exiting now\n"
          ]
        }
      ]
    },
    {
      "cell_type": "code",
      "source": [
        "\n",
        "# Remove the downloaded files if desired\n",
        "!rm kagglecatsanddogs_5340.zip.001\n",
        "!rm kagglecatsanddogs_5340.zip.002\n",
        "!rm kagglecatsanddogs_5340.zip.003\n",
        "!rm kagglecatsanddogs_5340.zip.004\n",
        "!rm kagglecatsanddogs_5340.zip.005\n",
        "!rm kagglecatsanddogs_5340.zip.006\n",
        "!rm kagglecatsanddogs_5340.zip.007\n",
        "!rm kagglecatsanddogs_5340.zip.008\n",
        "\n",
        "!ls"
      ],
      "metadata": {
        "id": "kq-qChr9FcfP"
      },
      "execution_count": null,
      "outputs": []
    },
    {
      "cell_type": "code",
      "source": [],
      "metadata": {
        "id": "1KZ60D2bFem3"
      },
      "execution_count": null,
      "outputs": []
    },
    {
      "cell_type": "code",
      "source": [
        "!echo \"Downloading kagglecatsanddogs_5340.zip.001 for image notebooks\"\n",
        "!curl -L -o kagglecatsanddogs_5340.zip.001 --progress-bar https://github.com/Alvaro-MSJR/Training-Neural-Network-with-Transfer-Learning/blob/main/Data/kagglecatsanddogs_5340.zip.001\n",
        "!tar -xzf kagglecatsanddogs_5340.zip.001\n",
        "!rm kagglecatsanddogs_5340.zip.001\n",
        "!ls\n"
      ],
      "metadata": {
        "id": "4dHyiba8Bo0v",
        "outputId": "9f1bae9f-0594-4719-d54d-00c7242dac4d",
        "colab": {
          "base_uri": "https://localhost:8080/"
        }
      },
      "execution_count": 3,
      "outputs": [
        {
          "output_type": "stream",
          "name": "stdout",
          "text": [
            "Downloading kagglecatsanddogs_5340.zip.001 for image notebooks\n",
            "##O=#  #                                                                                           \n",
            "\n",
            "gzip: stdin: not in gzip format\n",
            "tar: Child returned status 1\n",
            "tar: Error is not recoverable: exiting now\n",
            "sample_data\n"
          ]
        }
      ]
    },
    {
      "cell_type": "code",
      "source": [
        "root = '101_ObjectCategories'\n",
        "exclude = ['BACKGROUND_Google', 'Motorbikes', 'airplanes', 'Faces_easy', 'Faces']\n",
        "train_split, val_split = 0.7, 0.15\n",
        "\n",
        "categories = [x[0] for x in os.walk(root) if x[0]][1:]\n",
        "categories = [c for c in categories if c not in [os.path.join(root, e) for e in exclude]]\n",
        "\n",
        "print(categories)"
      ],
      "metadata": {
        "id": "aPu30ZeUBo91"
      },
      "execution_count": null,
      "outputs": []
    },
    {
      "cell_type": "markdown",
      "source": [
        "This function is useful for pre-processing the data into an image and input vector."
      ],
      "metadata": {
        "id": "ShJUsPB-DBkv"
      }
    },
    {
      "cell_type": "code",
      "source": [
        "# helper function to load image and return it and input vector\n",
        "def get_image(path):\n",
        "    img = image.load_img(path, target_size=(224, 224))\n",
        "    x = image.img_to_array(img)\n",
        "    x = np.expand_dims(x, axis=0)\n",
        "    x = preprocess_input(x)\n",
        "    return img, x"
      ],
      "metadata": {
        "id": "bbepbeaMCFOp"
      },
      "execution_count": null,
      "outputs": []
    },
    {
      "cell_type": "markdown",
      "source": [
        "Load all the images from root folder"
      ],
      "metadata": {
        "id": "FNPMGa1ADI8c"
      }
    },
    {
      "cell_type": "code",
      "source": [
        "data = []\n",
        "for c, category in enumerate(categories):\n",
        "    images = [os.path.join(dp, f) for dp, dn, filenames\n",
        "              in os.walk(category) for f in filenames\n",
        "              if os.path.splitext(f)[1].lower() in ['.jpg','.png','.jpeg']]\n",
        "    for img_path in images:\n",
        "        img, x = get_image(img_path)\n",
        "        data.append({'x':np.array(x[0]), 'y':c})\n",
        "\n",
        "# count the number of classes\n",
        "num_classes = len(categories)"
      ],
      "metadata": {
        "id": "Z6PEzm-cDIYc"
      },
      "execution_count": null,
      "outputs": []
    },
    {
      "cell_type": "markdown",
      "source": [
        "Randomize the data order."
      ],
      "metadata": {
        "id": "MQkP5r2tDa8B"
      }
    },
    {
      "cell_type": "code",
      "source": [
        "random.shuffle(data)"
      ],
      "metadata": {
        "id": "kSCY5qqVDIx8"
      },
      "execution_count": null,
      "outputs": []
    },
    {
      "cell_type": "markdown",
      "source": [
        "create training / validation / test split (70%, 15%, 15%)"
      ],
      "metadata": {
        "id": "Pqtvm1HrDJES"
      }
    }
  ],
  "metadata": {
    "language_info": {
      "name": "python"
    },
    "colab": {
      "provenance": []
    },
    "kernelspec": {
      "name": "python3",
      "display_name": "Python 3"
    }
  },
  "nbformat": 4,
  "nbformat_minor": 0
}